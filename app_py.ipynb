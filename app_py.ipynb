{
  "nbformat": 4,
  "nbformat_minor": 0,
  "metadata": {
    "colab": {
      "provenance": []
    },
    "kernelspec": {
      "name": "python3",
      "display_name": "Python 3"
    },
    "language_info": {
      "name": "python"
    }
  },
  "cells": [
    {
      "cell_type": "code",
      "execution_count": 10,
      "metadata": {
        "id": "-0m13vTbebQ9"
      },
      "outputs": [],
      "source": [
        "# ------------------------------\n",
        "# Step 1: Import Libraries\n",
        "# ------------------------------\n",
        "import numpy as np\n",
        "import pandas as pd\n",
        "import matplotlib.pyplot as plt\n",
        "import seaborn as sns\n",
        "\n",
        "from sklearn.model_selection import train_test_split\n",
        "from sklearn.preprocessing import LabelEncoder, StandardScaler\n",
        "from sklearn.ensemble import RandomForestClassifier\n",
        "from sklearn.metrics import classification_report, confusion_matrix, accuracy_score"
      ]
    },
    {
      "cell_type": "code",
      "source": [
        "# ------------------------------\n",
        "# Step 2: Generate Synthetic Dataset\n",
        "# ------------------------------\n",
        "np.random.seed(42)\n",
        "\n",
        "n_samples = 1000\n",
        "data = pd.DataFrame({\n",
        "    \"Ad_Budget\": np.random.randint(1000, 10000, n_samples),           # Ad spend\n",
        "    \"Ad_Platform\": np.random.choice([\"Google\", \"Meta\", \"LinkedIn\"], n_samples),\n",
        "    \"Ad_Type\": np.random.choice([\"Video\", \"Image\", \"Text\"], n_samples),\n",
        "    \"Audience_Age\": np.random.choice([\"18-24\", \"25-34\", \"35-44\", \"45+\"], n_samples),\n",
        "    \"Audience_Interest\": np.random.choice([\"Tech\", \"Fashion\", \"Sports\", \"Finance\"], n_samples),\n",
        "    \"Clicks\": np.random.randint(0, 500, n_samples),                   # Number of clicks\n",
        "    \"Impressions\": np.random.randint(1000, 10000, n_samples)          # Number of views\n",
        "})\n",
        "\n",
        "# Calculate CTR (Click Through Rate)\n",
        "data[\"CTR\"] = (data[\"Clicks\"] / data[\"Impressions\"]) * 100\n",
        "\n",
        "# Target Variable: High CTR (1) if CTR > 5%, else Low CTR (0)\n",
        "data[\"High_CTR\"] = (data[\"CTR\"] > 5).astype(int)\n",
        "\n",
        "print(\"Sample Data:\")\n",
        "print(data.head())"
      ],
      "metadata": {
        "colab": {
          "base_uri": "https://localhost:8080/"
        },
        "id": "Oj37YA4BecHR",
        "outputId": "da3d5cfb-4c37-427b-8cec-a59b946d575e"
      },
      "execution_count": 11,
      "outputs": [
        {
          "output_type": "stream",
          "name": "stdout",
          "text": [
            "Sample Data:\n",
            "   Ad_Budget Ad_Platform Ad_Type Audience_Age Audience_Interest  Clicks  \\\n",
            "0       8270      Google   Image          45+           Fashion     450   \n",
            "1       1860    LinkedIn   Image        18-24            Sports     413   \n",
            "2       6390    LinkedIn   Video        35-44           Finance     312   \n",
            "3       6191    LinkedIn   Video        25-34           Finance     382   \n",
            "4       6734        Meta   Image        35-44              Tech     213   \n",
            "\n",
            "   Impressions        CTR  High_CTR  \n",
            "0         5992   7.510013         1  \n",
            "1         2961  13.947991         1  \n",
            "2         3863   8.076624         1  \n",
            "3         7603   5.024333         1  \n",
            "4         5567   3.826118         0  \n"
          ]
        }
      ]
    },
    {
      "cell_type": "code",
      "source": [
        "# ------------------------------\n",
        "# Step 3: Preprocessing\n",
        "# ------------------------------\n",
        "# Encode categorical variables\n",
        "le = LabelEncoder()\n",
        "for col in [\"Ad_Platform\", \"Ad_Type\", \"Audience_Age\", \"Audience_Interest\"]:\n",
        "    data[col] = le.fit_transform(data[col])\n",
        "\n",
        "# Features & Target\n",
        "X = data[[\"Ad_Budget\", \"Ad_Platform\", \"Ad_Type\", \"Audience_Age\", \"Audience_Interest\", \"Impressions\"]]\n",
        "y = data[\"High_CTR\"]\n",
        "\n",
        "# Train-test split\n",
        "X_train, X_test, y_train, y_test = train_test_split(X, y, test_size=0.2, random_state=42)\n",
        "\n",
        "# Feature scaling\n",
        "scaler = StandardScaler()\n",
        "X_train = scaler.fit_transform(X_train)\n",
        "X_test = scaler.transform(X_test)"
      ],
      "metadata": {
        "id": "-vp2GD-9ejRT"
      },
      "execution_count": 12,
      "outputs": []
    },
    {
      "cell_type": "code",
      "source": [
        "# ------------------------------\n",
        "# Step 4: Train Model\n",
        "# ------------------------------\n",
        "model = RandomForestClassifier(n_estimators=100, random_state=42)\n",
        "model.fit(X_train, y_train)\n",
        "\n",
        "# Predictions\n",
        "y_pred = model.predict(X_test)"
      ],
      "metadata": {
        "id": "ajhEazmSenqP"
      },
      "execution_count": 13,
      "outputs": []
    },
    {
      "cell_type": "code",
      "source": [
        "# ------------------------------\n",
        "# Step 5: Evaluation\n",
        "# ------------------------------\n",
        "print(\"\\nModel Performance:\")\n",
        "print(\"Accuracy:\", accuracy_score(y_test, y_pred))\n",
        "print(\"\\nClassification Report:\\n\", classification_report(y_test, y_pred))\n",
        "\n",
        "# Confusion Matrix Heatmap\n",
        "plt.figure(figsize=(6,4))\n",
        "sns.heatmap(confusion_matrix(y_test, y_pred), annot=True, fmt=\"d\", cmap=\"Blues\", xticklabels=[\"Low CTR\",\"High CTR\"], yticklabels=[\"Low CTR\",\"High CTR\"])\n",
        "plt.title(\"Confusion Matrix\")\n",
        "plt.show()"
      ],
      "metadata": {
        "colab": {
          "base_uri": "https://localhost:8080/",
          "height": 634
        },
        "id": "WRQ0fvdieqkg",
        "outputId": "d3520407-ffb4-434a-de68-16556d71322a"
      },
      "execution_count": 14,
      "outputs": [
        {
          "output_type": "stream",
          "name": "stdout",
          "text": [
            "\n",
            "Model Performance:\n",
            "Accuracy: 0.73\n",
            "\n",
            "Classification Report:\n",
            "               precision    recall  f1-score   support\n",
            "\n",
            "           0       0.76      0.73      0.75       108\n",
            "           1       0.70      0.73      0.71        92\n",
            "\n",
            "    accuracy                           0.73       200\n",
            "   macro avg       0.73      0.73      0.73       200\n",
            "weighted avg       0.73      0.73      0.73       200\n",
            "\n"
          ]
        },
        {
          "output_type": "display_data",
          "data": {
            "text/plain": [
              "<Figure size 600x400 with 2 Axes>"
            ],
            "image/png": "[encoded data removed]"
          },
          "metadata": {}
        }
      ]
    },
    {
      "cell_type": "code",
      "source": [
        "# ------------------------------\n",
        "# Step 6: Make Sample Predictions\n",
        "# ------------------------------\n",
        "sample_ad = pd.DataFrame({\n",
        "    \"Ad_Budget\": [5000],\n",
        "    \"Ad_Platform\": le.fit_transform([\"Google\"]),   # Encode using LabelEncoder\n",
        "    \"Ad_Type\": le.fit_transform([\"Video\"]),\n",
        "    \"Audience_Age\": le.fit_transform([\"25-34\"]),\n",
        "    \"Audience_Interest\": le.fit_transform([\"Tech\"]),\n",
        "    \"Impressions\": [4000]\n",
        "})\n",
        "\n",
        "sample_ad = scaler.transform(sample_ad)  # scale\n",
        "prediction = model.predict(sample_ad)\n",
        "print(\"\\nPrediction for Sample Ad (High CTR=1, Low CTR=0):\", prediction[0])"
      ],
      "metadata": {
        "colab": {
          "base_uri": "https://localhost:8080/"
        },
        "id": "XauRimvietGd",
        "outputId": "c00b2953-677a-4826-edad-ac4178d6f336"
      },
      "execution_count": 15,
      "outputs": [
        {
          "output_type": "stream",
          "name": "stdout",
          "text": [
            "\n",
            "Prediction for Sample Ad (High CTR=1, Low CTR=0): 1\n"
          ]
        }
      ]
    },
    {
      "cell_type": "code",
      "source": [],
      "metadata": {
        "id": "o5bpxbJsswF3"
      },
      "execution_count": null,
      "outputs": []
    }
  ]
}